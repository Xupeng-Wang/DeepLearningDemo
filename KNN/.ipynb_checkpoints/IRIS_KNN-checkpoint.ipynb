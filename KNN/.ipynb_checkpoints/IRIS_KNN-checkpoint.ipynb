{
 "cells": [
  {
   "cell_type": "code",
   "execution_count": null,
   "metadata": {},
   "outputs": [],
   "source": [
    "from sklearn import neighbors  #contains KNN algorithm\n",
    "from sklearn import datasets  #contains many main train dataset\n",
    "\n",
    "\n",
    "knn = neighbors.KNeighborsClassifier() #knn classifier\n",
    "\n",
    "iris = datasets.load_iris()  #load iris dataset and return a array\n",
    "\n",
    "print(iris)\n",
    "\n",
    "knn.fit(iris.data, iris.target) # build a modul\n",
    "\n",
    "#predict a instance\n",
    "predictedLabel = knn.predict([[0.1, 0.2, 0.3, 0.4]])\n"
   ]
  }
 ],
 "metadata": {
  "kernelspec": {
   "display_name": "Python 3",
   "language": "python",
   "name": "python3"
  },
  "language_info": {
   "codemirror_mode": {
    "name": "ipython",
    "version": 3
   },
   "file_extension": ".py",
   "mimetype": "text/x-python",
   "name": "python",
   "nbconvert_exporter": "python",
   "pygments_lexer": "ipython3",
   "version": "3.5.2"
  }
 },
 "nbformat": 4,
 "nbformat_minor": 2
}
